{
 "cells": [
  {
   "cell_type": "code",
   "execution_count": 11,
   "metadata": {},
   "outputs": [],
   "source": [
    "\n",
    "import matplotlib.pyplot as plt\n",
    "import numpy as np\n",
    "import pandas as pd\n",
    "import torch\n",
    "import torch.nn as nn\n",
    "import torch.optim as optim\n",
    "from sklearn.model_selection import train_test_split\n",
    "from sklearn.preprocessing import OneHotEncoder\n",
    "import copy\n",
    "import torch.optim as optim\n",
    "import tqdm\n",
    "from sklearn.impute import SimpleImputer\n",
    "from sklearn.metrics import accuracy_score\n",
    "from sklearn.metrics import precision_score\n",
    "from sklearn.metrics import recall_score\n",
    "from sklearn.metrics import f1_score\n",
    "\n",
    "NUM_ATTRIBUTES = 78"
   ]
  },
  {
   "cell_type": "code",
   "execution_count": 12,
   "metadata": {},
   "outputs": [
    {
     "name": "stdout",
     "output_type": "stream",
     "text": [
      "TOTAL ROWS PARSED:  3001100\n",
      "Data contains infinite or NaN values\n"
     ]
    }
   ],
   "source": [
    "data = pd.concat(map(pd.read_csv, [\"../Thursday-WorkingHours-Morning-WebAttacks.pcap_ISCX.csv\", \n",
    "                                 \"../Friday-WorkingHours-Afternoon-DDos.pcap_ISCX.csv\",\n",
    "                                 \"../Friday-WorkingHours-Afternoon-PortScan.pcap_ISCX.csv\",\n",
    "                                 \"../Friday-WorkingHours-Morning.pcap_ISCX.csv\",\n",
    "                                 \"../Monday-WorkingHours.pcap_ISCX.csv\",\n",
    "                                 \"../Thursday-WorkingHours-Afternoon-Infilteration.pcap_ISCX.csv\",\n",
    "                                 \"../Thursday-WorkingHours-Morning-WebAttacks.pcap_ISCX.csv\",\n",
    "                                 \"../Tuesday-WorkingHours.pcap_ISCX.csv\",\n",
    "                                 \"../Wednesday-workingHours.pcap_ISCX.csv\"]))\n",
    "# data = pd.read_csv(\"../Friday-WorkingHours-Afternoon-PortScan.pcap_ISCX.csv\", header=None)\n",
    "\n",
    "X = data.iloc[:, 0:NUM_ATTRIBUTES] # obtain all instances and there columns except the last column\n",
    "y = data.iloc[:, NUM_ATTRIBUTES:] # obtain all instances and only the last column (label)\n",
    "\n",
    "X = X.drop(0) #gets rid of the first row (features names)\n",
    "y = y.drop(0) #gets rid of the first row (label name - Label)\n",
    "print(\"TOTAL ROWS PARSED: \", len(X.values)) # prints the total num of instances \n",
    "\n",
    "X_VALUES = (X.values).astype('float32') # converts all numbers into floating point values 32\n",
    "\n",
    "if np.any(np.isinf(X_VALUES)) or np.any(np.isnan(X_VALUES)):\n",
    "    print(\"Data contains infinite or NaN values\")\n",
    "\n",
    "X_VALUES = np.where(np.isinf(X_VALUES), np.nan, X_VALUES)\n",
    "\n",
    "imputer = SimpleImputer(missing_values=np.nan, strategy='mean')  # use the mean to fill the inf and nan values\n",
    "X_VALUES = imputer.fit_transform(X_VALUES)\n",
    "\n",
    "# np.savetxt('test1.txt', X_VALUES, fmt='%d') "
   ]
  },
  {
   "cell_type": "code",
   "execution_count": 13,
   "metadata": {},
   "outputs": [],
   "source": [
    "# # Splits the data into BENIGN and BAD packets evenly\n",
    "# analysis_data = pd.DataFrame()\n",
    "\n",
    "# malicious_count = 0\n",
    "# normal_count = 0\n",
    "# for i in range(len(data)):\n",
    "#     if str(data.iloc[i, 78]) == \"BENIGN\" and normal_count <= malicious_count:\n",
    "#         analysis_data = pd.concat([analysis_data, pd.DataFrame([data.iloc[i]])], ignore_index=True)\n",
    "#         normal_count += 1\n",
    "#     elif str(data.iloc[i, 78]) != \"BENIGN\" and malicious_count <= normal_count:\n",
    "#         analysis_data = pd.concat([analysis_data, pd.DataFrame([data.iloc[i]])], ignore_index=True)\n",
    "#         malicious_count += 1\n",
    "\n",
    "# print(malicious_count)\n",
    "# print(normal_count)\n",
    "\n",
    "# X_z = analysis_data.iloc[:, 0:NUM_ATTRIBUTES] # obtain all instances and there columns except the last column\n",
    "# y_z = analysis_data.iloc[:, NUM_ATTRIBUTES:] # obtain all instances and only the last column (label)\n",
    "\n",
    "# X_VALUES_DISTRIBUTED = (X_z.values).astype('float32') # converts all numbers into floating point values 32\n",
    "\n",
    "# # X_VALUES_DISTIBUTED[np.isnan(X_VALUES_DISTIBUTED)] = 0 #replaces all values of nan with 0\n",
    "# # X_VALUES_DISTIBUTED[np.isinf(X_VALUES_DISTIBUTED)] = 0 #replaces all values of inf with 0\n",
    "\n",
    "# # np.savetxt('distributed_dataset.csv', X_VALUES_DISTIBUTED, fmt='%d') \n",
    "# # np.savetxt('distributed_dataset.csv', ((analysis_data.iloc[:])), fmt='%d') \n",
    "# analysis_data.to_csv('distributed_dataset.csv', index=False)"
   ]
  },
  {
   "cell_type": "code",
   "execution_count": 14,
   "metadata": {},
   "outputs": [
    {
     "name": "stdout",
     "output_type": "stream",
     "text": [
      "[array(['BENIGN', 'Bot', 'DDoS', 'DoS GoldenEye', 'DoS Hulk',\n",
      "       'DoS Slowhttptest', 'DoS slowloris', 'FTP-Patator', 'Heartbleed',\n",
      "       'Infiltration', 'PortScan', 'SSH-Patator',\n",
      "       'Web Attack � Brute Force', 'Web Attack � Sql Injection',\n",
      "       'Web Attack � XSS'], dtype=object)]\n",
      "ALL POSSIBLE LABELS:  [[1. 0. 0. ... 0. 0. 0.]\n",
      " [1. 0. 0. ... 0. 0. 0.]\n",
      " [1. 0. 0. ... 0. 0. 0.]\n",
      " ...\n",
      " [1. 0. 0. ... 0. 0. 0.]\n",
      " [1. 0. 0. ... 0. 0. 0.]\n",
      " [1. 0. 0. ... 0. 0. 0.]]\n",
      "TOTAL LABELS:  15\n"
     ]
    }
   ],
   "source": [
    "# Transforms the y outputs to be encoded\n",
    "# encode all the possible labels an instance can have\n",
    "ohe = OneHotEncoder(handle_unknown='ignore', sparse_output=False).fit(y)\n",
    "print(ohe.categories_)\n",
    " \n",
    "# transform the y labels to be a digestible list \n",
    "# ex.) ['BENIGN', 'PortScan'] => [1. 0.] (means the instance has the label of BENIGN)\n",
    "y = ohe.transform(y)\n",
    "print(\"ALL POSSIBLE LABELS: \", y)\n",
    "print(\"TOTAL LABELS: \",len(y[0]))\n",
    "output_size = len(y[0])"
   ]
  },
  {
   "cell_type": "code",
   "execution_count": 15,
   "metadata": {},
   "outputs": [],
   "source": [
    "# architecture of the network\n",
    "class Multiclass(nn.Module):\n",
    "    def __init__(self):\n",
    "        super().__init__()\n",
    "        self.hidden_one = nn.Linear(78, 154) # seventy eight for all the input features and one hundred and fifty four for the expansion\n",
    "        self.hidden_two = nn.Linear(154, 78) # another network layer\n",
    "        self.act = nn.ReLU()\n",
    "        self.output = nn.Linear(78, output_size) # output size is the appropriate y label\n",
    "        self.dropout = nn.Dropout(0.25)\n",
    "        \n",
    "    def forward(self, x):\n",
    "        x = self.act(self.hidden_one(x)) \n",
    "        x = self.act(self.hidden_two(x))\n",
    "        x = self.output(x)\n",
    "        x = self.dropout(x)\n",
    "        return x\n",
    "    \n",
    "model = Multiclass()"
   ]
  },
  {
   "cell_type": "markdown",
   "metadata": {},
   "source": [
    "Below is how you can define the loss metric. The CrossEntropyLoss function in PyTorch combines the softmax function with the cross entropy calculation, so you don’t need any activation function at the output layer of your model. You also need an optimizer, and Adam is chosen below."
   ]
  },
  {
   "cell_type": "code",
   "execution_count": 16,
   "metadata": {},
   "outputs": [],
   "source": [
    "# obtain the loss function we will use (used to determine how good our model preforms)\n",
    "loss_fn = nn.CrossEntropyLoss()\n",
    "# optimizer used to improve our model\n",
    "optimizer = optim.Adam(model.parameters(), lr=0.0001)"
   ]
  },
  {
   "cell_type": "code",
   "execution_count": 17,
   "metadata": {},
   "outputs": [
    {
     "name": "stderr",
     "output_type": "stream",
     "text": [
      "Epoch 0: 100%|██████████| 8730/8730 [00:59<00:00, 147.43batch/s, acc=0.931, loss=924]    \n"
     ]
    },
    {
     "name": "stdout",
     "output_type": "stream",
     "text": [
      "Epoch 0 validation: Cross-entropy=832.94, Accuracy=95.2% and Accuracy=95.2, F1 Score=95.2, Precision=95.2, Recall=95.2\n"
     ]
    },
    {
     "name": "stderr",
     "output_type": "stream",
     "text": [
      "Epoch 1: 100%|██████████| 8730/8730 [01:18<00:00, 111.77batch/s, acc=0.931, loss=476]    \n"
     ]
    },
    {
     "name": "stdout",
     "output_type": "stream",
     "text": [
      "Epoch 1 validation: Cross-entropy=507.81, Accuracy=94.3% and Accuracy=94.3, F1 Score=94.3, Precision=94.3, Recall=94.3\n"
     ]
    },
    {
     "name": "stderr",
     "output_type": "stream",
     "text": [
      "Epoch 2: 100%|██████████| 8730/8730 [01:04<00:00, 135.34batch/s, acc=0.938, loss=338]    \n"
     ]
    },
    {
     "name": "stdout",
     "output_type": "stream",
     "text": [
      "Epoch 2 validation: Cross-entropy=540.61, Accuracy=96.4% and Accuracy=96.4, F1 Score=96.4, Precision=96.4, Recall=96.4\n"
     ]
    },
    {
     "name": "stderr",
     "output_type": "stream",
     "text": [
      "Epoch 3: 100%|██████████| 8730/8730 [01:12<00:00, 119.94batch/s, acc=0.953, loss=107]    \n"
     ]
    },
    {
     "name": "stdout",
     "output_type": "stream",
     "text": [
      "Epoch 3 validation: Cross-entropy=211.08, Accuracy=96.7% and Accuracy=96.7, F1 Score=96.7, Precision=96.7, Recall=96.7\n"
     ]
    },
    {
     "name": "stderr",
     "output_type": "stream",
     "text": [
      "Epoch 4: 100%|██████████| 8730/8730 [01:36<00:00, 90.22batch/s, acc=0.942, loss=134]     \n"
     ]
    },
    {
     "name": "stdout",
     "output_type": "stream",
     "text": [
      "Epoch 4 validation: Cross-entropy=85.27, Accuracy=97.2% and Accuracy=97.2, F1 Score=97.2, Precision=97.2, Recall=97.2\n"
     ]
    },
    {
     "name": "stderr",
     "output_type": "stream",
     "text": [
      "Epoch 5: 100%|██████████| 8730/8730 [01:24<00:00, 103.48batch/s, acc=0.938, loss=273]    \n"
     ]
    },
    {
     "name": "stdout",
     "output_type": "stream",
     "text": [
      "Epoch 5 validation: Cross-entropy=108.42, Accuracy=96.5% and Accuracy=96.5, F1 Score=96.5, Precision=96.5, Recall=96.5\n"
     ]
    },
    {
     "name": "stderr",
     "output_type": "stream",
     "text": [
      "Epoch 6: 100%|██████████| 8730/8730 [01:30<00:00, 96.23batch/s, acc=0.956, loss=6.05]    \n"
     ]
    },
    {
     "name": "stdout",
     "output_type": "stream",
     "text": [
      "Epoch 6 validation: Cross-entropy=32.78, Accuracy=97.8% and Accuracy=97.8, F1 Score=97.8, Precision=97.8, Recall=97.8\n"
     ]
    },
    {
     "name": "stderr",
     "output_type": "stream",
     "text": [
      "Epoch 7: 100%|██████████| 8730/8730 [01:03<00:00, 138.07batch/s, acc=0.945, loss=4.15]   \n"
     ]
    },
    {
     "name": "stdout",
     "output_type": "stream",
     "text": [
      "Epoch 7 validation: Cross-entropy=23.68, Accuracy=97.9% and Accuracy=97.9, F1 Score=97.9, Precision=97.9, Recall=97.9\n"
     ]
    },
    {
     "data": {
      "image/png": "[encoded data removed]",
      "text/plain": [
       "<Figure size 640x480 with 1 Axes>"
      ]
     },
     "metadata": {},
     "output_type": "display_data"
    },
    {
     "data": {
      "image/png": "[encoded data removed]",
      "text/plain": [
       "<Figure size 640x480 with 1 Axes>"
      ]
     },
     "metadata": {},
     "output_type": "display_data"
    }
   ],
   "source": [
    "# convert pandas DataFrame features (X) and numpy array (y) into PyTorch tensors\n",
    "X = torch.tensor(X_VALUES, dtype=torch.float32) # convert feature values into tensors\n",
    "y = torch.tensor(y, dtype=torch.float32) # convert label values in tensors\n",
    " \n",
    "#split the data into x training data (80% of feature data), x test data (20% of feature data), y training data (80% of label data),  y test data (20% of label data)\n",
    "X_train, X_test, y_train, y_test = train_test_split(X, y, test_size=0.2, shuffle=True) \n",
    "\n",
    "# prepare model and training parameters\n",
    "n_epochs = 8 # number of times we iterate over the data\n",
    "batch_size = 275 # number of samples processed before an update is preformed\n",
    "batches_per_epoch = len(X_train) // batch_size\n",
    "# print(batches_per_epoch)\n",
    " \n",
    "best_accuracy = - np.inf   # init to negative infinity\n",
    "best_weights = None\n",
    "train_loss_hist = []\n",
    "train_acc_hist = []\n",
    "test_loss_hist = []\n",
    "test_acc_hist = []\n",
    " \n",
    "# training loop\n",
    "for epoch in range(n_epochs):\n",
    "    epoch_loss = [] # keeps track of the overall loss\n",
    "    epoch_acc = [] # keeps track of the accuracy after each iteration on the training data\n",
    "    # set model in training mode and run through each batch\n",
    "    model.train()\n",
    "    with tqdm.trange(batches_per_epoch, unit=\"batch\", mininterval=0) as bar:\n",
    "        bar.set_description(f\"Epoch {epoch}\")\n",
    "        for i in bar:\n",
    "            # take a batch\n",
    "            start = i * batch_size\n",
    "            X_batch = X_train[start:start+batch_size]\n",
    "            y_batch = y_train[start:start+batch_size]\n",
    "            \n",
    "            # forward pass\n",
    "            y_pred = model(X_batch)\n",
    "            loss = loss_fn(y_pred, y_batch)\n",
    "            # backward pass\n",
    "            optimizer.zero_grad()\n",
    "            loss.backward()\n",
    "            # update weights\n",
    "            optimizer.step()\n",
    "            # compute and store metrics\n",
    "            accuracy = (torch.argmax(y_pred, 1) == torch.argmax(y_batch, 1)).float().mean()\n",
    "            # f1 = f1_score(y_test, y_pred)\n",
    "            # accuracy = accuracy_score(y_test, y_pred)\n",
    "            epoch_loss.append(float(loss))\n",
    "            epoch_acc.append(float(accuracy))\n",
    "            bar.set_postfix(\n",
    "                loss=float(loss),\n",
    "                acc=float(accuracy)\n",
    "            )\n",
    "    # # set model in evaluation mode and run through the test set\n",
    "    model.eval()\n",
    "    y_pred = model(X_test)\n",
    "    y_pred_edit = torch.argmax(y_pred,axis=1)\n",
    "    y_test_edit = torch.argmax(y_test,axis=1)\n",
    "    loss = loss_fn(y_pred, y_test)\n",
    "    f1 = f1_score(y_test_edit, y_pred_edit, average='micro')\n",
    "    precision = precision_score(y_test_edit, y_pred_edit, average='micro')\n",
    "    recall = recall_score(y_test_edit, y_pred_edit, average='micro')\n",
    "\n",
    "    accuracy = (torch.argmax(y_pred, 1) == torch.argmax(y_test, 1)).float().mean()\n",
    "    accuracy_one = accuracy_score(y_test_edit, y_pred_edit)\n",
    "    \n",
    "    # accuracy = (torch.argmax(y_pred, 1) == torch.argmax(y_test, 1)).float().mean()\n",
    "    loss = float(loss)\n",
    "    accuracy = float(accuracy)\n",
    "    train_loss_hist.append(np.mean(epoch_loss))\n",
    "    train_acc_hist.append(np.mean(epoch_acc))\n",
    "    test_loss_hist.append(loss)\n",
    "    test_acc_hist.append(accuracy)\n",
    "    if accuracy > best_accuracy:\n",
    "        best_accuracy = accuracy\n",
    "        best_weights = copy.deepcopy(model.state_dict())\n",
    "    print(f\"Epoch {epoch} validation: Cross-entropy={loss:.2f}, Accuracy={accuracy * 100:.1f}% and Accuracy={accuracy_one * 100:.1f}, F1 Score={f1 * 100:.1f}, Precision={precision * 100:.1f}, Recall={recall * 100:.1f}\")\n",
    " \n",
    "# Restore best model\n",
    "model.load_state_dict(best_weights)\n",
    " \n",
    "# Plot the loss and accuracy\n",
    "plt.plot(train_loss_hist, label=\"train\")\n",
    "plt.plot(test_loss_hist, label=\"test\")\n",
    "plt.xlabel(\"epochs\")\n",
    "plt.ylabel(\"cross entropy\")\n",
    "plt.legend()\n",
    "plt.show()\n",
    " \n",
    "plt.plot(train_acc_hist, label=\"train\")\n",
    "plt.plot(test_acc_hist, label=\"test\")\n",
    "plt.xlabel(\"epochs\")\n",
    "plt.ylabel(\"accuracy\")\n",
    "plt.legend()\n",
    "plt.show()"
   ]
  },
  {
   "cell_type": "code",
   "execution_count": 18,
   "metadata": {},
   "outputs": [],
   "source": [
    "# # saves the model to PATH variable\n",
    "# PATH = './test_model.pth'\n",
    "# torch.save(model.state_dict(), PATH)"
   ]
  },
  {
   "cell_type": "code",
   "execution_count": 19,
   "metadata": {},
   "outputs": [],
   "source": [
    "# PATH = './test_model.pth'\n",
    "# model = Multiclass() # initialize your model class\n",
    "# model.load_state_dict(torch.load(PATH))\n",
    "\n",
    "# # convert pandas DataFrame features (X) and numpy array (y) into PyTorch tensors\n",
    "# X = torch.tensor(X_VALUES, dtype=torch.float32) # convert feature values into tensors\n",
    "# y = torch.tensor(y, dtype=torch.float32) # convert label values in tensors\n",
    " \n",
    "# #split the data into x training data (80% of feature data), x test data (20% of feature data), y training data (80% of label data),  y test data (20% of label data)\n",
    "# X_train, X_test, y_train, y_test = train_test_split(X, y, train_size=0.8, shuffle=True)\n",
    "\n",
    "\n",
    "# attack_test_count = 0\n",
    "# benign_test_count = 0\n",
    "\n",
    "# attack_array = []\n",
    "# index_array = []\n",
    "\n",
    "# # obtains the malicious instances\n",
    "# for index, label in enumerate(y_test):\n",
    "#     benign_test_count += 1\n",
    "#     if False in torch.eq(torch.tensor([1., 0., 0., 0., 0., 0., 0., 0., 0., 0., 0., 0., 0., 0., 0.]), label):\n",
    "#         index_array.append(index)\n",
    "#         attack_test_count += 1\n",
    "\n",
    "# print(index_array)\n",
    "# # loops through each malicious instance and tests it\n",
    "# for index in index_array:\n",
    "#     y_pred = model(X_test[index])\n",
    "#     print(torch.argmax(y_pred) == torch.argmax(y_test[index]))\n",
    "#     print(torch.argmax(y_pred))\n",
    "#     print(torch.argmax(y_test[index]))\n",
    "    \n",
    "\n",
    "\n"
   ]
  }
 ],
 "metadata": {
  "kernelspec": {
   "display_name": "Python 3",
   "language": "python",
   "name": "python3"
  },
  "language_info": {
   "codemirror_mode": {
    "name": "ipython",
    "version": 3
   },
   "file_extension": ".py",
   "mimetype": "text/x-python",
   "name": "python",
   "nbconvert_exporter": "python",
   "pygments_lexer": "ipython3",
   "version": "3.11.1"
  }
 },
 "nbformat": 4,
 "nbformat_minor": 2
}
